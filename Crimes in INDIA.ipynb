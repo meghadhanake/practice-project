{
 "cells": [
  {
   "cell_type": "code",
   "execution_count": null,
   "id": "1706bfea",
   "metadata": {},
   "outputs": [],
   "source": [
    "import pandas as pd\n",
    "import numpy as np\n",
    "import matplotlib.pyplot as plt\n",
    "import seaborn as sns\n",
    "import datetime \n",
    "import warnings\n",
    "warnings.filterwarnings('ignore')"
   ]
  },
  {
   "cell_type": "code",
   "execution_count": null,
   "id": "a4606f71",
   "metadata": {},
   "outputs": [],
   "source": [
    "df=pd.read_csv(\"crimes_against_women_2001-2014.csv\")\n",
    "df.shape"
   ]
  },
  {
   "cell_type": "code",
   "execution_count": null,
   "id": "acee2e5c",
   "metadata": {},
   "outputs": [],
   "source": [
    "df.head()"
   ]
  },
  {
   "cell_type": "code",
   "execution_count": null,
   "id": "4afc9c0f",
   "metadata": {},
   "outputs": [],
   "source": [
    "df.info()"
   ]
  },
  {
   "cell_type": "code",
   "execution_count": null,
   "id": "f37421ea",
   "metadata": {},
   "outputs": [],
   "source": [
    "df.describe()"
   ]
  },
  {
   "cell_type": "code",
   "execution_count": null,
   "id": "088abe64",
   "metadata": {},
   "outputs": [],
   "source": [
    "df.isnull().sum()"
   ]
  },
  {
   "cell_type": "code",
   "execution_count": null,
   "id": "25ab6f21",
   "metadata": {},
   "outputs": [],
   "source": [
    "df.nunique()"
   ]
  },
  {
   "cell_type": "code",
   "execution_count": null,
   "id": "8b2d6055",
   "metadata": {},
   "outputs": [],
   "source": [
    "df=df.drop(\"Unnamed: 0\",axis=1)"
   ]
  },
  {
   "cell_type": "code",
   "execution_count": null,
   "id": "5420b679",
   "metadata": {},
   "outputs": [],
   "source": [
    "list(df[\"STATE/UT\"].unique())"
   ]
  },
  {
   "cell_type": "code",
   "execution_count": null,
   "id": "7e3e968f",
   "metadata": {},
   "outputs": [],
   "source": [
    "print(list(df[\"STATE/UT\"].unique()))\n",
    "print(len(list(df[\"STATE/UT\"].unique())))"
   ]
  },
  {
   "cell_type": "code",
   "execution_count": null,
   "id": "2207348d",
   "metadata": {},
   "outputs": [],
   "source": [
    "df.replace({'A&N Islands':'A & N Islands','D&N Haveli':'D & N HAVELI','Delhi UT':'DELHI'},inplace=True)"
   ]
  },
  {
   "cell_type": "code",
   "execution_count": null,
   "id": "140e209a",
   "metadata": {},
   "outputs": [],
   "source": [
    "len(list(df[\"STATE/UT\"].unique()))"
   ]
  },
  {
   "cell_type": "code",
   "execution_count": null,
   "id": "eba502b3",
   "metadata": {},
   "outputs": [],
   "source": [
    "df[\"STATE/UT\"]=df[\"STATE/UT\"].str.casefold()"
   ]
  },
  {
   "cell_type": "code",
   "execution_count": null,
   "id": "6eb85c5f",
   "metadata": {},
   "outputs": [],
   "source": [
    "len(list(df[\"STATE/UT\"].unique()))"
   ]
  },
  {
   "cell_type": "code",
   "execution_count": null,
   "id": "e60172cc",
   "metadata": {},
   "outputs": [],
   "source": [
    "df[\"DISTRICT\"].value_counts()"
   ]
  },
  {
   "cell_type": "code",
   "execution_count": null,
   "id": "951309b0",
   "metadata": {},
   "outputs": [],
   "source": [
    "df[\"DISTRICT\"]=df[\"DISTRICT\"].str.lower()"
   ]
  },
  {
   "cell_type": "code",
   "execution_count": null,
   "id": "f4a5e6f1",
   "metadata": {},
   "outputs": [],
   "source": [
    "df=df.drop(list(df[df[\"DISTRICT\"]==\"total\"].index))"
   ]
  },
  {
   "cell_type": "code",
   "execution_count": null,
   "id": "2dbe68d0",
   "metadata": {},
   "outputs": [],
   "source": [
    "len(list(df[df[\"DISTRICT\"]==\"zz total\"].index))"
   ]
  },
  {
   "cell_type": "code",
   "execution_count": null,
   "id": "820145c6",
   "metadata": {},
   "outputs": [],
   "source": [
    "len(list(df[df[\"DISTRICT\"]==\"total district(s)\"].index))"
   ]
  },
  {
   "cell_type": "code",
   "execution_count": null,
   "id": "f2f46a96",
   "metadata": {},
   "outputs": [],
   "source": [
    "len(list(df[df[\"DISTRICT\"]==\"delhi ut total\"].index))"
   ]
  },
  {
   "cell_type": "code",
   "execution_count": null,
   "id": "0738bd6b",
   "metadata": {},
   "outputs": [],
   "source": [
    "df=df.drop(list(df[df[\"DISTRICT\"]==\"zz total\"].index))"
   ]
  },
  {
   "cell_type": "code",
   "execution_count": null,
   "id": "9021debb",
   "metadata": {},
   "outputs": [],
   "source": [
    "df=df.drop(list(df[df[\"DISTRICT\"]==\"total district(s)\"].index))"
   ]
  },
  {
   "cell_type": "code",
   "execution_count": null,
   "id": "3c878338",
   "metadata": {},
   "outputs": [],
   "source": [
    "df=df.drop(list(df[df[\"DISTRICT\"]==\"delhi ut total\"].index))"
   ]
  },
  {
   "cell_type": "code",
   "execution_count": null,
   "id": "37a81213",
   "metadata": {},
   "outputs": [],
   "source": [
    "df=df.drop(list(df[df[\"DISTRICT\"]==\"delhi ut total\"].index))"
   ]
  },
  {
   "cell_type": "code",
   "execution_count": null,
   "id": "0a923d3f",
   "metadata": {},
   "outputs": [],
   "source": [
    "df[\"DISTRICT\"].value_counts()"
   ]
  },
  {
   "cell_type": "code",
   "execution_count": null,
   "id": "eb71461b",
   "metadata": {},
   "outputs": [],
   "source": [
    "df[\"DISTRICT\"].unique()"
   ]
  },
  {
   "cell_type": "code",
   "execution_count": null,
   "id": "0fc72171",
   "metadata": {},
   "outputs": [],
   "source": [
    "df.columns"
   ]
  },
  {
   "cell_type": "code",
   "execution_count": null,
   "id": "2421fd57",
   "metadata": {},
   "outputs": [],
   "source": [
    "df[\"Total\"]=df[\"Rape\"]+df[\"Kidnapping and Abduction\"]+df[\"Dowry Deaths\"]+df[\"Assault on women with intent to outrage her modesty\"]+df[\"Insult to modesty of Women\"]+df[\"Cruelty by Husband or his Relatives\"]+df[\"Importation of Girls\"]\n"
   ]
  },
  {
   "cell_type": "code",
   "execution_count": null,
   "id": "54cd39ef",
   "metadata": {},
   "outputs": [],
   "source": [
    "df.head()"
   ]
  },
  {
   "cell_type": "code",
   "execution_count": null,
   "id": "9ce5f4e1",
   "metadata": {},
   "outputs": [],
   "source": [
    "df.shape"
   ]
  },
  {
   "cell_type": "code",
   "execution_count": null,
   "id": "896ba029",
   "metadata": {},
   "outputs": [],
   "source": [
    "plt.figure(figsize=(12,8))\n",
    "df.groupby(\"Year\")[\"Total\"].sum().plot.bar()"
   ]
  },
  {
   "cell_type": "code",
   "execution_count": null,
   "id": "3f6076f9",
   "metadata": {},
   "outputs": [],
   "source": [
    "df.groupby(\"Year\")[\"Rape\"].sum().plot.pie(autopct='%1.0f%%')\n",
    "plt.tight_layout()"
   ]
  },
  {
   "cell_type": "code",
   "execution_count": null,
   "id": "a25ab2ef",
   "metadata": {},
   "outputs": [],
   "source": [
    "df.groupby(\"Year\")[\"Kidnapping and Abduction\"].sum().plot.pie(autopct='%1.0f%%')\n",
    "plt.tight_layout()"
   ]
  },
  {
   "cell_type": "code",
   "execution_count": null,
   "id": "5f80289a",
   "metadata": {},
   "outputs": [],
   "source": [
    "df.groupby(\"Year\")[\"Dowry Deaths\"].sum().plot.pie(autopct='%1.0f%%')\n",
    "plt.tight_layout()"
   ]
  },
  {
   "cell_type": "code",
   "execution_count": null,
   "id": "11ccbe0b",
   "metadata": {},
   "outputs": [],
   "source": [
    "df.groupby(\"Year\")[\"Assault on women with intent to outrage her modesty\"].sum().plot.pie(autopct='%1.0f%%')\n",
    "plt.tight_layout()"
   ]
  },
  {
   "cell_type": "code",
   "execution_count": null,
   "id": "09632805",
   "metadata": {},
   "outputs": [],
   "source": [
    "df.groupby(\"Year\")[\"Insult to modesty of Women\"].sum().plot.pie(autopct='%1.0f%%')\n",
    "plt.tight_layout()"
   ]
  },
  {
   "cell_type": "code",
   "execution_count": null,
   "id": "3a6686ce",
   "metadata": {},
   "outputs": [],
   "source": [
    "df.groupby(\"Year\")[\"Cruelty by Husband or his Relatives\"].sum().plot.pie(autopct='%1.0f%%')\n",
    "plt.tight_layout()"
   ]
  },
  {
   "cell_type": "code",
   "execution_count": null,
   "id": "b22d2f38",
   "metadata": {},
   "outputs": [],
   "source": [
    "df.groupby(\"Year\")[\"Importation of Girls\"].sum().plot.pie(autopct='%1.0f%%')\n",
    "plt.tight_layout()"
   ]
  },
  {
   "cell_type": "code",
   "execution_count": null,
   "id": "e7aa5851",
   "metadata": {},
   "outputs": [],
   "source": [
    "Summary\n",
    "All the crime types against women have been summarized as line graphs to visually show the trend as years go by"
   ]
  },
  {
   "cell_type": "code",
   "execution_count": null,
   "id": "8a940fce",
   "metadata": {},
   "outputs": [],
   "source": [
    "plt.figure(figsize=(20,12))\n",
    "plt.subplot(2,4,1)\n",
    "df.groupby(\"Year\")[\"Rape\"].sum().plot(title=\"Rape\")\n",
    "plt.subplot(2,4,2)\n",
    "df.groupby(\"Year\")[\"Kidnapping and Abduction\"].sum().plot(title=\"Kidnapping and Abduction\")\n",
    "plt.subplot(2,4,3)\n",
    "df.groupby(\"Year\")[\"Dowry Deaths\"].sum().plot(title=\"Dowry Deaths\")\n",
    "plt.subplot(2,4,6)\n",
    "df.groupby(\"Year\")[\"Assault on women with intent to outrage her modesty\"].sum().plot(title=\"Assault on women with intent to outrage her modesty\")\n",
    "plt.subplot(2,4,5)\n",
    "df.groupby(\"Year\")[\"Insult to modesty of Women\"].sum().plot(title=\"Insult to modesty of Women\")\n",
    "plt.subplot(2,4,4)\n",
    "df.groupby(\"Year\")[\"Cruelty by Husband or his Relatives\"].sum().plot(title=\"Cruelty by Husband or his Relatives\")\n",
    "plt.subplot(2,4,7)\n",
    "df.groupby(\"Year\")[\"Importation of Girls\"].sum().plot(title=\"Importation of Girls\")\n",
    "plt.subplot(2,4,8)\n",
    "df.groupby(\"Year\")[\"Total\"].sum().plot(title=\"Total No. of Crimes\")"
   ]
  },
  {
   "cell_type": "code",
   "execution_count": null,
   "id": "dbcfe2dd",
   "metadata": {},
   "outputs": [],
   "source": [
    "plt.figure(figsize=(15,7))\n",
    "df.groupby(\"Year\")[\"Rape\"].sum().plot()\n",
    "df.groupby(\"Year\")[\"Kidnapping and Abduction\"].sum().plot()\n",
    "df.groupby(\"Year\")[\"Dowry Deaths\"].sum().plot(label=\"Dowry Deaths\")\n",
    "df.groupby(\"Year\")[\"Assault on women with intent to outrage her modesty\"].sum().plot()\n",
    "df.groupby(\"Year\")[\"Insult to modesty of Women\"].sum().plot()\n",
    "df.groupby(\"Year\")[\"Cruelty by Husband or his Relatives\"].sum().plot()\n",
    "df.groupby(\"Year\")[\"Importation of Girls\"].sum().plot()\n",
    "plt.legend()\n",
    "plt.tight_layout()"
   ]
  },
  {
   "cell_type": "code",
   "execution_count": null,
   "id": "6a0027ba",
   "metadata": {},
   "outputs": [],
   "source": [
    "Categorical yearly crime rates"
   ]
  },
  {
   "cell_type": "code",
   "execution_count": null,
   "id": "d211aefc",
   "metadata": {},
   "outputs": [],
   "source": [
    "crimes=['Rape','Kidnapping and Abduction','Dowry Deaths',\n",
    "        'Assault on women with intent to outrage her modesty',\n",
    "        'Insult to modesty of Women','Cruelty by Husband or his Relatives',\n",
    "        'Importation of Girls']\n",
    "\n",
    "df1=pd.DataFrame()\n",
    "for i in crimes:\n",
    "    df_c=df.groupby(['Year'])[i].sum()\n",
    "    df1[i]=df_c\n",
    "df1"
   ]
  },
  {
   "cell_type": "code",
   "execution_count": null,
   "id": "18994a14",
   "metadata": {},
   "outputs": [],
   "source": [
    "a=[]\n",
    "for i in crimes:\n",
    "  a.append(df1[i].sum())\n",
    "a.sort()\n",
    "plt.figure(figsize=(10,15))\n",
    "plt.pie(a,labels=crimes,autopct='%1.2f%%',colors=['black', 'gold', 'lightskyblue', 'lightcoral','lightpink','lightcyan','lightgreen'])\n",
    "plt.tight_layout()"
   ]
  },
  {
   "cell_type": "code",
   "execution_count": null,
   "id": "f3e656c8",
   "metadata": {},
   "outputs": [],
   "source": [
    "df1.T"
   ]
  },
  {
   "cell_type": "code",
   "execution_count": null,
   "id": "829f38a2",
   "metadata": {},
   "outputs": [],
   "source": [
    "State / UT wise Analysis of Crime"
   ]
  },
  {
   "cell_type": "code",
   "execution_count": null,
   "id": "2f3fa646",
   "metadata": {},
   "outputs": [],
   "source": [
    "plt.figure(figsize=(17,7))\n",
    "df.groupby(\"STATE/UT\")[\"Total\"].sum().sort_values(ascending=False).plot.bar()"
   ]
  },
  {
   "cell_type": "code",
   "execution_count": null,
   "id": "f1b46ab3",
   "metadata": {},
   "outputs": [],
   "source": [
    "crimes=['Rape','Kidnapping and Abduction','Dowry Deaths',\n",
    "        'Assault on women with intent to outrage her modesty',\n",
    "        'Insult to modesty of Women','Cruelty by Husband or his Relatives',\n",
    "        'Importation of Girls']\n",
    "\n",
    "df_state=pd.DataFrame()\n",
    "for i in crimes:\n",
    "    df_state_crimes=df.groupby(['STATE/UT'])[i].sum()\n",
    "    df_state[i]=df_state_crimes\n",
    "df_state[\"Total\"]=df_state.sum(axis=1)\n",
    "df_state=df_state.sort_values(by=\"Total\",ascending=False)\n",
    "df_state.reset_index()\n",
    "df_state"
   ]
  },
  {
   "cell_type": "code",
   "execution_count": null,
   "id": "77f12907",
   "metadata": {},
   "outputs": [],
   "source": [
    "df_state.head(3)"
   ]
  },
  {
   "cell_type": "code",
   "execution_count": null,
   "id": "223dfb23",
   "metadata": {},
   "outputs": [],
   "source": [
    "df_state.tail(3)"
   ]
  },
  {
   "cell_type": "code",
   "execution_count": null,
   "id": "52edf6a1",
   "metadata": {},
   "outputs": [],
   "source": [
    "Top 5 States having higher Rape Cases"
   ]
  },
  {
   "cell_type": "code",
   "execution_count": null,
   "id": "a0bb412c",
   "metadata": {},
   "outputs": [],
   "source": [
    "top_rape_by_state=df_state.sort_values(by=\"Rape\",ascending=False)\n",
    "top_3rape=top_rape_by_state.iloc[:,0:1].head(5)\n",
    "plt.figure(figsize=(10,5))\n",
    "plt.pie(top_3rape.Rape,labels=top_3rape.index,colors=['lightcoral','skyblue','lightgreen',\"royalblue\",\"green\"],startangle=45,autopct='%1.2f%%',textprops={'fontsize': 18},shadow=True,explode=[0.01,0.01,0.01,0.01,0.01])\n",
    "plt.title(\"Top 5 States by No. of Cases on Rape\",fontdict={'fontsize' : 20})\n",
    "plt.tight_layout()"
   ]
  },
  {
   "cell_type": "code",
   "execution_count": null,
   "id": "d68577b3",
   "metadata": {},
   "outputs": [],
   "source": [
    "Top 5 States having higher Kidnapping and Abduction"
   ]
  },
  {
   "cell_type": "code",
   "execution_count": null,
   "id": "1a1a82e9",
   "metadata": {},
   "outputs": [],
   "source": [
    "\n",
    "top_kidabd_by_state=df_state.sort_values(by=\"Kidnapping and Abduction\",ascending=False)\n",
    "top_3kidabd=top_kidabd_by_state.iloc[:,1:2].head(5)\n",
    "plt.figure(figsize=(10,5))\n",
    "plt.pie(top_3kidabd[\"Kidnapping and Abduction\"],labels=top_3rape.index,colors=['lightcoral','skyblue','lightgreen',\"royalblue\",\"green\"],startangle=45,autopct='%1.2f%%',textprops={'fontsize': 18},shadow=True,explode=[0.01,0.01,0.01,0.01,0.01])\n",
    "plt.title(\"Top 5 States by No. of Cases on Kidnapping and Abduction\",fontdict={'fontsize' : 20})\n",
    "plt.tight_layout()"
   ]
  },
  {
   "cell_type": "code",
   "execution_count": null,
   "id": "d7dced76",
   "metadata": {},
   "outputs": [],
   "source": [
    "Top 5 States having higher Dowry Death's"
   ]
  },
  {
   "cell_type": "code",
   "execution_count": null,
   "id": "a96b82d3",
   "metadata": {},
   "outputs": [],
   "source": [
    "\n",
    "top_dow_by_state=df_state.sort_values(by=\"Dowry Deaths\",ascending=False)\n",
    "top_3dow=top_dow_by_state.iloc[:,2:3].head(5)\n",
    "plt.figure(figsize=(10,5))\n",
    "plt.pie(top_3dow[\"Dowry Deaths\"],labels=top_3rape.index,colors=['lightcoral','skyblue','lightgreen',\"royalblue\",\"green\"],startangle=45,autopct='%1.2f%%',textprops={'fontsize': 18},shadow=True,explode=[0.01,0.01,0.01,0.01,0.01])\n",
    "plt.title(\"Top 5 States by No. of Cases on Dowry Deaths\",fontdict={'fontsize' : 20})\n",
    "plt.tight_layout()"
   ]
  },
  {
   "cell_type": "code",
   "execution_count": null,
   "id": "fc3dec9f",
   "metadata": {},
   "outputs": [],
   "source": [
    "Top 5 States having higher Assault on women with intent to outrage her modesty"
   ]
  },
  {
   "cell_type": "code",
   "execution_count": null,
   "id": "fa394fae",
   "metadata": {},
   "outputs": [],
   "source": [
    "top_ass_by_state=df_state.sort_values(by=\"Assault on women with intent to outrage her modesty\",ascending=False)\n",
    "top_3ass=top_ass_by_state.iloc[:,3:4].head(5)\n",
    "plt.figure(figsize=(10,5))\n",
    "plt.pie(top_3ass[\"Assault on women with intent to outrage her modesty\"],labels=top_3rape.index,colors=['lightcoral','skyblue','lightgreen',\"royalblue\",\"green\"],startangle=45,autopct='%1.2f%%',textprops={'fontsize': 18},shadow=True,explode=[0.01,0.01,0.01,0.01,0.01])\n",
    "plt.title(\"Top 5 States by No. of Cases on Assault on women with intent to outrage her modesty\",fontdict={'fontsize' : 20})\n",
    "plt.tight_layout()"
   ]
  },
  {
   "cell_type": "code",
   "execution_count": null,
   "id": "ed515767",
   "metadata": {},
   "outputs": [],
   "source": [
    "Top 5 States having higher Assault on women with intent to outrage her modesty"
   ]
  },
  {
   "cell_type": "code",
   "execution_count": null,
   "id": "3b7e0b4d",
   "metadata": {},
   "outputs": [],
   "source": [
    "\n",
    "top_ass_by_state=df_state.sort_values(by=\"Assault on women with intent to outrage her modesty\",ascending=False)\n",
    "top_3ass=top_ass_by_state.iloc[:,3:4].head(5)\n",
    "plt.figure(figsize=(10,5))\n",
    "plt.pie(top_3ass[\"Assault on women with intent to outrage her modesty\"],labels=top_3rape.index,colors=['lightcoral','skyblue','lightgreen',\"royalblue\",\"green\"],startangle=45,autopct='%1.2f%%',textprops={'fontsize': 18},shadow=True,explode=[0.01,0.01,0.01,0.01,0.01])\n",
    "plt.title(\"Top 5 States by No. of Cases on Assault on women with intent to outrage her modesty\",fontdict={'fontsize' : 20})\n",
    "plt.tight_layout()"
   ]
  },
  {
   "cell_type": "code",
   "execution_count": null,
   "id": "958f9bc7",
   "metadata": {},
   "outputs": [],
   "source": [
    "Percentage Distribution of Crimes in from 2001 to 2014"
   ]
  },
  {
   "cell_type": "code",
   "execution_count": null,
   "id": "277da9a9",
   "metadata": {},
   "outputs": [],
   "source": [
    "\n",
    "plt.figure(figsize=(13,6)).patch.set_facecolor(\"#F1EDD7FF\")\n",
    "plt.pie(dfapT[\"madhya pradesh\"],labels=dfapT.index,autopct=\"%1.2f%%\")\n",
    "plt.tight_layout()"
   ]
  },
  {
   "cell_type": "code",
   "execution_count": null,
   "id": "ea9c5205",
   "metadata": {},
   "outputs": [],
   "source": [
    "plt.figure(figsize=(12,6)).patch.set_facecolor(\"#F1EDD7FF\")\n",
    "sns.barplot(data=dfapT,x=dfapT.index,y=dfapT[\"madhya pradesh\"],color=\"lightblue\")\n",
    "plt.xticks(rotation=90)\n",
    "plt.tight_layout()"
   ]
  },
  {
   "cell_type": "code",
   "execution_count": null,
   "id": "33621cca",
   "metadata": {},
   "outputs": [],
   "source": [
    "Year Wise Distribution of Crimes"
   ]
  },
  {
   "cell_type": "code",
   "execution_count": null,
   "id": "0f358ecc",
   "metadata": {},
   "outputs": [],
   "source": [
    "\n",
    "crime_ap=['Rape','Kidnapping and Abduction','Dowry Deaths',\n",
    "        'Assault on women with intent to outrage her modesty',\n",
    "        'Insult to modesty of Women','Cruelty by Husband or his Relatives',\n",
    "        'Importation of Girls',\"Total\"]\n",
    "\n",
    "df_ap_year=df.loc[df['STATE/UT']=='madhya pradesh']\n",
    "\n",
    "df1_ap_yearwise=pd.DataFrame()\n",
    "for i in crime_ap:\n",
    "    df_crimes_ap=df_ap_year.groupby(['Year'])[i].sum()\n",
    "    df1_ap_yearwise[i]=df_crimes_ap\n",
    "df1_ap_yearwise"
   ]
  },
  {
   "cell_type": "code",
   "execution_count": null,
   "id": "f77a6f94",
   "metadata": {},
   "outputs": [],
   "source": [
    "plt.figure(figsize=(10,5)).patch.set_facecolor(\"#F1EDD7FF\")\n",
    "plt.axes().set_facecolor(\"#F1EDD7FF\")\n",
    "sns.barplot(data=df1_ap_yearwise,x=df1_ap_yearwise.index,y='Total',color=\"lightblue\")\n",
    "plt.tight_layout()"
   ]
  },
  {
   "cell_type": "code",
   "execution_count": null,
   "id": "758a9edf",
   "metadata": {},
   "outputs": [],
   "source": [
    "plt.figure(figsize=(13,6)).patch.set_facecolor(\"#F1EDD7FF\")\n",
    "plt.pie(df1_ap_yearwise[\"Total\"],labels=df1_ap_yearwise.index,autopct='%1.2f%%',counterclock=False)\n",
    "plt.tight_layout()"
   ]
  },
  {
   "cell_type": "code",
   "execution_count": null,
   "id": "096f4854",
   "metadata": {},
   "outputs": [],
   "source": [
    "Timeline Analysis of Different Categories of Crime at Different Period of Time"
   ]
  },
  {
   "cell_type": "code",
   "execution_count": null,
   "id": "34527c27",
   "metadata": {},
   "outputs": [],
   "source": [
    "\n",
    "plt.figure(figsize=(17,7)).patch.set_facecolor(\"#F1EDD7FF\")\n",
    "sns.lineplot(data=df1_ap_yearwise,palette='gnuplot_r',linestyle=\"dashed\")\n",
    "plt.tight_layout()"
   ]
  },
  {
   "cell_type": "code",
   "execution_count": null,
   "id": "aab16b48",
   "metadata": {},
   "outputs": [],
   "source": [
    "df_wb=df_state.loc[df_state.index==\"west bengal\"]\n",
    "dfwbT=df_wb.T.drop(\"Total\")\n",
    "dfwbT"
   ]
  },
  {
   "cell_type": "code",
   "execution_count": null,
   "id": "f4a584c1",
   "metadata": {},
   "outputs": [],
   "source": [
    "Percentage Distribution of Crimes in from 2001 to 2014"
   ]
  },
  {
   "cell_type": "code",
   "execution_count": null,
   "id": "bc11ff64",
   "metadata": {},
   "outputs": [],
   "source": [
    "\n",
    "plt.figure(figsize=(13,6)).patch.set_facecolor(\"#F1EDD7FF\")\n",
    "plt.pie(dfwbT[\"west bengal\"],labels=dfwbT.index,autopct=\"%1.2f%%\")\n",
    "plt.tight_layout()"
   ]
  },
  {
   "cell_type": "code",
   "execution_count": null,
   "id": "4e9c43fb",
   "metadata": {},
   "outputs": [],
   "source": [
    "plt.figure(figsize=(13,7))\n",
    "dfwbT.groupby(dfwbT.index)[\"west bengal\"].sum().sort_values(ascending=False).plot.bar()\n",
    "plt.tight_layout()"
   ]
  },
  {
   "cell_type": "code",
   "execution_count": null,
   "id": "8d5fa6c4",
   "metadata": {},
   "outputs": [],
   "source": [
    "Year Wise Distribution of Crimes"
   ]
  },
  {
   "cell_type": "code",
   "execution_count": null,
   "id": "5dc29758",
   "metadata": {},
   "outputs": [],
   "source": [
    "\n",
    "crime_wb=['Rape','Kidnapping and Abduction','Dowry Deaths',\n",
    "        'Assault on women with intent to outrage her modesty',\n",
    "        'Insult to modesty of Women','Cruelty by Husband or his Relatives',\n",
    "        'Importation of Girls',\"Total\"]\n",
    "\n",
    "df_wb_year=df.loc[df['STATE/UT']=='west bengal']\n",
    "\n",
    "df1_wb_yearwise=pd.DataFrame()\n",
    "for i in crime_wb:\n",
    "    df_crimes_wb=df_wb_year.groupby(['Year'])[i].sum()\n",
    "    df1_wb_yearwise[i]=df_crimes_wb\n",
    "df1_wb_yearwise"
   ]
  },
  {
   "cell_type": "code",
   "execution_count": null,
   "id": "3a0421c8",
   "metadata": {},
   "outputs": [],
   "source": [
    "plt.figure(figsize=(10,5)).patch.set_facecolor(\"#F1EDD7FF\")\n",
    "plt.axes().set_facecolor(\"#F1EDD7FF\")\n",
    "sns.barplot(data=df1_wb_yearwise,x=df1_wb_yearwise.index,y='Total',color=\"lightblue\")\n",
    "plt.tight_layout()"
   ]
  },
  {
   "cell_type": "code",
   "execution_count": null,
   "id": "b2a03ef9",
   "metadata": {},
   "outputs": [],
   "source": [
    "plt.figure(figsize=(13,6)).patch.set_facecolor(\"#F1EDD7FF\")\n",
    "plt.pie(df1_wb_yearwise[\"Total\"],labels=df1_wb_yearwise.index,autopct='%1.2f%%',counterclock=False)\n",
    "plt.tight_layout()"
   ]
  },
  {
   "cell_type": "code",
   "execution_count": null,
   "id": "c6656d26",
   "metadata": {},
   "outputs": [],
   "source": [
    "Timeline Analysis of Different Categories of Crime at Different Period of Time"
   ]
  },
  {
   "cell_type": "code",
   "execution_count": null,
   "id": "3ce1d9eb",
   "metadata": {},
   "outputs": [],
   "source": [
    "\n",
    "plt.figure(figsize=(17,7)).patch.set_facecolor(\"#F1EDD7FF\")\n",
    "sns.lineplot(data=df1_wb_yearwise,palette='gnuplot_r',linestyle=\"dashed\")\n",
    "plt.tight_layout()"
   ]
  },
  {
   "cell_type": "code",
   "execution_count": null,
   "id": "4402fca0",
   "metadata": {},
   "outputs": [],
   "source": [
    "crime_mh=['Rape','Kidnapping and Abduction','Dowry Deaths',\n",
    "        'Assault on women with intent to outrage her modesty',\n",
    "        'Insult to modesty of Women','Cruelty by Husband or his Relatives',\n",
    "        'Importation of Girls',\"Total\"]\n",
    "\n",
    "df_mh_year=df.loc[df['STATE/UT']=='maharashtra']\n",
    "\n",
    "df1_mh_yearwise=pd.DataFrame()\n",
    "for i in crime_mh:\n",
    "    df_crimes_mh=df_mh_year.groupby(['Year'])[i].sum()\n",
    "    df1_mh_yearwise[i]=df_crimes_mh\n",
    "df1_mh_yearwise"
   ]
  },
  {
   "cell_type": "code",
   "execution_count": null,
   "id": "8d48f610",
   "metadata": {},
   "outputs": [],
   "source": [
    "plt.figure(figsize=(10,5)).patch.set_facecolor(\"#F1EDD7FF\")\n",
    "plt.axes().set_facecolor(\"#F1EDD7FF\")\n",
    "sns.barplot(data=df1_mh_yearwise,x=df1_mh_yearwise.index,y='Total',color=\"lightblue\")\n",
    "plt.tight_layout()"
   ]
  },
  {
   "cell_type": "code",
   "execution_count": null,
   "id": "f66e03c0",
   "metadata": {},
   "outputs": [],
   "source": [
    "plt.figure(figsize=(13,6)).patch.set_facecolor(\"#F1EDD7FF\")\n",
    "plt.pie(df1_mh_yearwise[\"Total\"],labels=df1_mh_yearwise.index,autopct='%1.2f%%',counterclock=False)\n",
    "plt.tight_layout()"
   ]
  },
  {
   "cell_type": "code",
   "execution_count": null,
   "id": "01f2d683",
   "metadata": {},
   "outputs": [],
   "source": [
    "plt.figure(figsize=(17,7)).patch.set_facecolor(\"#F1EDD7FF\")\n",
    "sns.lineplot(data=df1_mh_yearwise,palette='gnuplot_r',linestyle=\"dashed\")\n",
    "plt.tight_layout()"
   ]
  },
  {
   "cell_type": "code",
   "execution_count": null,
   "id": "f36fd80a",
   "metadata": {},
   "outputs": [],
   "source": []
  },
  {
   "cell_type": "code",
   "execution_count": null,
   "id": "d66c6952",
   "metadata": {},
   "outputs": [],
   "source": []
  },
  {
   "cell_type": "code",
   "execution_count": null,
   "id": "71d007b9",
   "metadata": {},
   "outputs": [],
   "source": []
  }
 ],
 "metadata": {
  "kernelspec": {
   "display_name": "Python 3 (ipykernel)",
   "language": "python",
   "name": "python3"
  },
  "language_info": {
   "codemirror_mode": {
    "name": "ipython",
    "version": 3
   },
   "file_extension": ".py",
   "mimetype": "text/x-python",
   "name": "python",
   "nbconvert_exporter": "python",
   "pygments_lexer": "ipython3",
   "version": "3.9.12"
  }
 },
 "nbformat": 4,
 "nbformat_minor": 5
}
